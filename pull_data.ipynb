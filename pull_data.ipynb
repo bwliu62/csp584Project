{
 "cells": [
  {
   "cell_type": "code",
   "execution_count": 6,
   "metadata": {},
   "outputs": [],
   "source": [
    "import contextlib\n",
    "import csv\n",
    "import datetime\n",
    "import os\n",
    "import pymysql\n",
    "\n",
    "\n",
    "TRANSCATIONS_SQL_QUERY = \"\"\"SELECT * FROM Doctordetails\"\"\";\n",
    "\n",
    "\n",
    "connection = pymysql.connect(host='localhost',\n",
    "                             user='root',\n",
    "                             password='root',\n",
    "                             db='project_database')\n",
    "\n",
    "with contextlib.closing(connection):\n",
    "    with connection.cursor() as cursor:\n",
    "\n",
    "\n",
    "        cursor.execute(TRANSCATIONS_SQL_QUERY)\n",
    "        transcations_result = cursor.fetchall()\n",
    "\n",
    "\n",
    "\n",
    "\n",
    "transcations_output_file = 'Doctordetails.csv'\n",
    "with open(transcations_output_file, 'w', newline='') as csvfile:\n",
    "    \n",
    "    csv_writer = csv.writer(csvfile, lineterminator='\\n')\n",
    "    csv_writer.writerows(transcations_result)\n"
   ]
  },
  {
   "cell_type": "code",
   "execution_count": 7,
   "metadata": {},
   "outputs": [
    {
     "output_type": "stream",
     "name": "stdout",
     "text": [
      "    postId  doctorId                     realName  \\\n0        1         2       Dr. Sue Kafali-Nazarof   \n1        2         5            Dr. Ming Li Tsang   \n2        3         9           Dr. Ryan M Siewert   \n3        4         7            Dr. Brynna Connor   \n4        5        11             Dr. Milton Waner   \n5        6        12      Dr. David J. Benditzson   \n6        7        13          Dr. Shirish N. Shah   \n7        8        14                Dr. Adrian Ma   \n8        9        15         Dr. Russell O. Schub   \n9       10        16        Dr. March E. Seabrook   \n10      11        17              Mark W. Galland   \n11      12        18            Dr. Jon J. Warner   \n12      13        19          Dr. Peter Steinberg   \n13      14        20             Dr. Robert Oates   \n14      15        21            Dr. Edward Zoltan   \n15      16        22               Dr. Ken Moadel   \n16      17        23          Dr. Jacqueline Wong   \n17      18        24          Dr. John H. Wilkins   \n18      19        27    Dr. Nayantara Seneviratne   \n19      20        26            Jennifer N. Ouchi   \n20      21        25                  Erin McCann   \n21      22        28        Dr. Chienying Liu, MD   \n22      23        29  Dr. Sujani G. Surakanti, MD   \n23      24        30           Elizondo Joseph MD   \n24      25        31        Dr. Mark S. Rosen, MD   \n25      26        32              Ayman Layka, MD   \n26      27        33        Wohlfeiler Michael MD   \n27      28        34   Dr. Gerald H. Watanabe, MD   \n28      29        35             Dr. Kore Liow MD   \n29      30        36              Cho Jonathan MD   \n\n                                department  \\\n0           gynecologic & cosmetic surgeon   \n1                          Family Medicine   \n2                          Family Medicine   \n3                          Family Medicine   \n4   hemangiomas and vascular malformations   \n5                             Primary Care   \n6                              Cardiology    \n7                          Cardiovascular    \n8                         Gastroenterology   \n9                         Gastroenterology   \n10                             Orthopedics   \n11                             Orthopedics   \n12                                 Urology   \n13                                 Urology   \n14                                 Urology   \n15                           Ophthalmology   \n16                           Ophthalmology   \n17                           Ophthalmology   \n18                        Endocrinologists   \n19                        Endocrinologists   \n20                        Endocrinologists   \n21                        Endocrinologists   \n22                           Hematologists   \n23                              Internists   \n24                           Nephrologists   \n25                           Nephrologists   \n26                              Internists   \n27                              Internists   \n28                            Neurologists   \n29                             Oncologists   \n\n                                              address  locationLat  \\\n0        3000 N Halsted St Ste 720, Chicago, IL 60657    41.936704   \n1           909 Hyde St #432, San Francisco, CA 94109    37.789371   \n2             1321 W Dakota Pkwy, Williston, ND 58801    48.155956   \n3   2911 Medical Arts St Building #10, Austin, TX ...    30.288075   \n4   210 East 64th Street, 7th Floor, New York City...    40.764072   \n5        111 N Wabash Ave STE 1412, Chicago, IL 60602    41.883475   \n6        5600 W Addison St Ste 400, Chicago, IL 60634    41.946091   \n7     5200 Jose Figueres Ave #215, San Jose, CA 95116    37.361572   \n8     8875 Centre Park Dr suite d, Columbia, MD 21045    39.228994   \n9           131 Summer Pl Dr, West Columbia, SC 29169    34.004235   \n10        11200 Gov Manly Way #309, Raleigh, NC 27614    35.947751   \n11                      55 Fruit St, Boston, MA 02114    42.362706   \n12                330 Brookline Ave, Boston, MA 02215    42.339880   \n13                725 Albany St #3b, Boston, MA 02118    42.334873   \n14       175 Remsen St 12th floor, Brooklyn, NY 11201    40.693500   \n15          110 E 40th St Floor 6, New York, NY 10016    40.750412   \n16  945 Hildebrand Ln NE, Bainbridge Island, WA 98110    47.633619   \n17         9155 SW Barnes Rd #430, Portland, OR 97225    45.510411   \n18    2250 Hayes St Ste. 612, San Francisco, CA 94117    37.773151   \n19               8635 W 3rd St, Los Angeles, CA 90048    34.073960   \n20            1658 N Milwaukee Ave, Chicago, IL 60647    41.911521   \n21  400 Parnassus Ave Suite A-550, San Francisco, ...    37.764554   \n22           1 Gustave L. Levy Pl, New York, NY 10029    40.790008   \n23          6835 Austin Center Blvd, Austin, TX 78731    30.351273   \n24  3000 N Interstate 35 Frontage Rd, Austin, TX 7...    30.288464   \n25          4302 Alton Rd #400, Miami Beach, FL 33140    25.814047   \n26               4308 Alton Rd, Miami Beach, FL 33140    25.814881   \n27       321 N Kuakini St STE 802, Honolulu, HI 96817    21.321549   \n28          1329 Lusitana St #307, Honolulu, HI 96813    21.307609   \n29         9155 SW Barnes Rd #430, Portland, OR 97225    45.510411   \n\n    locationLong               location  OpenTime closeTime    postTime  \n0     -87.651939            Chicago, IL  09:00:00  17:00:00  2020-08-30  \n1    -122.419444      San Francisco, CA  08:00:00  17:30:00  2020-09-03  \n2    -103.653038          Williston, ND  09:30:00  17:30:00  2020-09-05  \n3     -97.729507             Austin, TX  08:00:00  17:30:00  2020-09-05  \n4     -73.965504      New York City, NY  08:15:00  16:30:00  2020-09-06  \n5     -87.627943            Chicago, IL  09:30:00  16:30:00  2020-09-12  \n6     -87.769331            Chicago, IL  09:00:00  17:30:00  2020-09-12  \n7    -121.852416           San Jose, CA  08:00:00  15:30:00  2020-09-15  \n8     -76.815674           Columbia, MD  10:00:00  16:00:00  2020-09-20  \n9     -81.123183      West Columbia, SC  08:00:00  17:00:00  2020-09-22  \n10    -78.543784            Raleigh, NC  09:00:00  17:30:00  2020-09-27  \n11    -71.070847             Boston, MA  08:30:00  16:30:00  2020-09-28  \n12    -71.106747             Boston, MA  08:30:00  16:30:00  2020-10-08  \n13    -71.074344             Boston, MA  09:30:00  18:30:00  2020-10-09  \n14    -73.993554           Brooklyn, NY  08:30:00  18:00:00  2020-10-11  \n15    -73.980187           New York, NY  08:30:00  17:00:00  2020-10-12  \n16   -122.519927  Bainbridge Island, WA  09:00:00  17:00:00  2020-10-15  \n17   -122.772308           Portland, OR  09:00:00  14:00:00  2020-10-16  \n18   -122.455610      San Francisco, CA  08:30:00  16:00:00  2020-10-18  \n19   -118.383109        Los Angeles, CA  08:30:00  16:00:00  2020-10-19  \n20    -87.682020            Chicago, IL  09:30:00  16:00:00  2020-10-19  \n21   -122.459445      San Francisco, CA  09:30:00  17:00:00  2020-10-20  \n22    -73.955926          New York, NY   09:30:00  16:15:00  2020-10-21  \n23    -97.752607             Austin, TX  10:00:00  16:00:00  2020-10-21  \n24    -97.726481             Austin, TX  08:30:00  15:00:00  2020-10-22  \n25    -80.141869        Miami Beach, FL  09:30:00  15:00:00  2020-10-24  \n26    -80.142697        Miami Beach, FL  08:30:00  16:00:00  2020-10-25  \n27   -157.858117           Honolulu, HI  09:30:00  17:00:00  2020-10-26  \n28   -157.854282             Kailua, HI  08:00:00  17:00:00  2020-10-27  \n29   -122.772313           Portland, OR  08:30:00  17:30:00  2020-10-28  \n"
     ]
    }
   ],
   "source": [
    "import csv\n",
    "import pandas as pd\n",
    "\n",
    "csv_columns = [  \"postId\", \"doctorId\", \"realName\", \"department\", \"address\", \"locationLat\" , \"locationLong\" , \"location\", \"OpenTime\", \"closeTime\" , \"postTime\" ]\n",
    "\n",
    "df = pd.read_csv(\"Doctordetails.csv\", names=csv_columns)\n",
    "print(df)\n",
    "df.to_csv (r'neo4j_doctor.csv', index = False, header=True)\n",
    "os.remove(\"Doctordetails.csv\")\n"
   ]
  },
  {
   "cell_type": "code",
   "execution_count": 8,
   "metadata": {},
   "outputs": [],
   "source": [
    "import contextlib\n",
    "import csv\n",
    "import datetime\n",
    "import os\n",
    "import pymysql\n",
    "\n",
    "\n",
    "TRANSCATIONS_SQL_QUERY = \"\"\"SELECT * FROM Registration\"\"\";\n",
    "\n",
    "\n",
    "connection = pymysql.connect(host='localhost',\n",
    "                             user='root',\n",
    "                             password='root',\n",
    "                             db='project_database')\n",
    "\n",
    "with contextlib.closing(connection):\n",
    "    with connection.cursor() as cursor:\n",
    "\n",
    "\n",
    "        cursor.execute(TRANSCATIONS_SQL_QUERY)\n",
    "        transcations_result = cursor.fetchall()\n",
    "\n",
    "\n",
    "\n",
    "\n",
    "transcations_output_file = 'Registration.csv'\n",
    "with open(transcations_output_file, 'w', newline='') as csvfile:\n",
    "    \n",
    "    csv_writer = csv.writer(csvfile, lineterminator='\\n')\n",
    "    csv_writer.writerows(transcations_result)\n"
   ]
  },
  {
   "cell_type": "code",
   "execution_count": 9,
   "metadata": {},
   "outputs": [
    {
     "output_type": "stream",
     "name": "stdout",
     "text": [
      "     userId                          userName password            email  \\\n0         1                               Tom      tom    tom@gmail.com   \n1         2                              Bill     bill   bill@gmail.com   \n2         3                              Lily     lily   lily@gmail.com   \n3         4                             Jason    jason  jason@gmail.com   \n4         5                              Ming     ming   ming@gmail.com   \n..      ...                               ...      ...              ...   \n116     117                   Point Insurance     1234  gerg4@gmail.com   \n117     118  Winmore Insurance Solutions LLC.     1234    fd4@gmail.com   \n118     119               Pro Insurance Group     1234    gd3@gmail.com   \n119     120                   Eagle Insurance     1234   fdh4@gmail.com   \n120     121                             admin    admin  admin@gmail.com   \n\n              usertype                                            address  \\\n0             customer  215 West Washington, W Washington St, Chicago,...   \n1               doctor       3000 N Halsted St Ste 720, Chicago, IL 60657   \n2             customer               255 King St, San Francisco, CA 94107   \n3             customer           1700 Newbury Park Dr, San Jose, CA 95133   \n4               doctor          909 Hyde St #432, San Francisco, CA 94109   \n..                 ...                                                ...   \n116  insurance company         1103 Commonwealth Avenue, Boston, MA 02215   \n117  insurance company             4152 W Armitage Ave, Chicago, IL 60639   \n118  insurance company      2521 Technology Dr Suite 201, Elgin, IL 60124   \n119  insurance company                  2433 W 79th St, Chicago, IL 60652   \n120              admin                  2433 W 79th St, Chicago, IL 60652   \n\n     locationLat  locationLong           location  \n0      41.882858    -87.636347        Chicago, IL  \n1      41.936704    -87.651939        Chicago, IL  \n2      37.749589   -122.438102  San Francisco, CA  \n3      37.375022   -121.865058       San Jose, CA  \n4      37.789371   -122.419444  San Francisco, CA  \n..           ...           ...                ...  \n116    42.351942    -71.125477         Boston, MA  \n117    41.917378    -87.731106        Chicago, IL  \n118    42.089852    -88.339264          Elgin, IL  \n119    41.749888    -87.684234        Chicago, IL  \n120    41.749888    -87.684234        Chicago, IL  \n\n[121 rows x 9 columns]\n"
     ]
    }
   ],
   "source": [
    "import csv\n",
    "import pandas as pd\n",
    "\n",
    "csv_columns = [  \"userId\", \"userName\", \"password\", \"email\", \"usertype\", \"address\" , \"locationLat\" , \"locationLong\", \"location\" ]\n",
    "\n",
    "df = pd.read_csv(\"Registration.csv\", names=csv_columns)\n",
    "print(df)\n",
    "df.to_csv (r'neo4j_registration.csv', index = False, header=True)\n",
    "os.remove(\"Registration.csv\")\n",
    "\n"
   ]
  },
  {
   "cell_type": "code",
   "execution_count": 11,
   "metadata": {},
   "outputs": [],
   "source": [
    "import contextlib\n",
    "import csv\n",
    "import datetime\n",
    "import os\n",
    "import pymysql\n",
    "\n",
    "\n",
    "TRANSCATIONS_SQL_QUERY = \"\"\"SELECT * FROM Appointment\"\"\";\n",
    "\n",
    "\n",
    "connection = pymysql.connect(host='localhost',\n",
    "                             user='root',\n",
    "                             password='root',\n",
    "                             db='project_database')\n",
    "\n",
    "with contextlib.closing(connection):\n",
    "    with connection.cursor() as cursor:\n",
    "\n",
    "\n",
    "        cursor.execute(TRANSCATIONS_SQL_QUERY)\n",
    "        transcations_result = cursor.fetchall()\n",
    "\n",
    "\n",
    "\n",
    "\n",
    "transcations_output_file = 'Appointment.csv'\n",
    "with open(transcations_output_file, 'w', newline='') as csvfile:\n",
    "    \n",
    "    csv_writer = csv.writer(csvfile, lineterminator='\\n')\n",
    "    csv_writer.writerows(transcations_result)\n"
   ]
  },
  {
   "cell_type": "code",
   "execution_count": 12,
   "metadata": {},
   "outputs": [
    {
     "output_type": "stream",
     "name": "stdout",
     "text": [
      "    bookId  providerId  customerId appointmentDate appointmentTime\n0        1           2           1      2020-10-20        10:00:00\n1        2           2          10      2020-10-07        15:00:00\n2        3           5           3      2020-10-31         9:30:00\n3        4           5           3      2020-11-01        13:45:00\n4        5           5           6      2020-10-31         9:30:00\n5        6           5           2      2020-11-01        13:45:00\n6        7           5           3      2020-10-31         9:30:00\n7        8           5           6      2020-11-01        13:45:00\n8        9           2           3      2020-11-20        10:00:00\n9       10           7           8      2020-10-15        10:15:00\n10      11           7           6      2020-11-20        10:30:00\n11      12           5          10      2020-10-06         9:20:00\n12      13           5          10      2020-11-06        14:30:00\n13      14           5           8      2020-10-30         9:20:00\n"
     ]
    }
   ],
   "source": [
    "import csv\n",
    "import pandas as pd\n",
    "\n",
    "csv_columns = [  \"bookId\", \"providerId\", \"customerId\", \"appointmentDate\", \"appointmentTime\" ]\n",
    "\n",
    "df = pd.read_csv(\"Appointment.csv\", names=csv_columns)\n",
    "print(df)\n",
    "df.to_csv (r'neo4j_appointment.csv', index = False, header=True)\n",
    "os.remove(\"Appointment.csv\")\n",
    "\n"
   ]
  },
  {
   "cell_type": "code",
   "execution_count": null,
   "metadata": {},
   "outputs": [],
   "source": []
  }
 ],
 "metadata": {
  "kernelspec": {
   "name": "python3",
   "display_name": "Python 3.7.6 64-bit (conda)",
   "metadata": {
    "interpreter": {
     "hash": "bc4533a01521e375ffa37256b9515278a7f12ae88345fd58eabf85b38ac557a5"
    }
   }
  }
 },
 "nbformat": 4,
 "nbformat_minor": 4
}