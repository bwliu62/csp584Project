{
 "cells": [
  {
   "cell_type": "code",
   "execution_count": 18,
   "metadata": {},
   "outputs": [],
   "source": [
    "from neo4j import GraphDatabase, basic_auth\n",
    "driver = GraphDatabase.driver(\"bolt://localhost:7687\", auth=basic_auth(\"neo4j\", \"root\"))\n"
   ]
  },
  {
   "cell_type": "code",
   "execution_count": 26,
   "metadata": {},
   "outputs": [],
   "source": [
    "with driver.session() as session:\n",
    "    session.run(\"MATCH (n) DETACH DELETE n\")"
   ]
  },
  {
   "cell_type": "code",
   "execution_count": 27,
   "metadata": {},
   "outputs": [],
   "source": [
    "query = \"\"\"\n",
    "LOAD CSV WITH HEADERS FROM 'file:///neo4j_registration.csv' AS line                      \n",
    "WITH line \n",
    "\n",
    "// Create  nodes\n",
    "Merge (customer:Customer {userId: line.userId,userName: line.userName, email: line.email,usertype: line.usertype, location:line.location})\n",
    "\n",
    "\n",
    "RETURN *;\n",
    "\n",
    "    \"\"\"\n",
    "\n",
    "with driver.session() as session:\n",
    "    session.run(query)"
   ]
  },
  {
   "cell_type": "code",
   "execution_count": 28,
   "metadata": {},
   "outputs": [],
   "source": [
    "query = \"\"\"\n",
    "LOAD CSV WITH HEADERS FROM 'file:///neo4j_appointment.csv' AS line                      \n",
    "WITH line \n",
    "\n",
    "// Create  nodes\n",
    "Merge (appointment:Appointment {bookId: line.bookId,providerId: line.providerId, customerId:line.customerId,appointmentDate: line.appointmentDate, appointmentTime:line.appointmentTime})\n",
    "\n",
    "RETURN *;\n",
    "\n",
    "    \"\"\"\n",
    "\n",
    "with driver.session() as session:\n",
    "    session.run(query)"
   ]
  },
  {
   "cell_type": "code",
   "execution_count": 29,
   "metadata": {},
   "outputs": [],
   "source": [
    "query = \"\"\"\n",
    "LOAD CSV WITH HEADERS FROM 'file:///neo4j_doctor.csv' AS line                      \n",
    "WITH line \n",
    "\n",
    "// Create  nodes\n",
    "Merge (doctor:Doctor {postId: line.postId,doctorId: line.doctorId, realName:line.realName,department: line.department, location:line.location})\n",
    "\n",
    "RETURN *;\n",
    "\n",
    "    \"\"\"\n",
    "\n",
    "with driver.session() as session:\n",
    "    session.run(query)"
   ]
  },
  {
   "cell_type": "code",
   "execution_count": 32,
   "metadata": {},
   "outputs": [],
   "source": [
    "query = \"\"\"\n",
    "MATCH (a:Customer), (b:Doctor) \n",
    "   WHERE a.userId =  b.doctorId \n",
    "CREATE (a)-[: post]->(b) \n",
    "RETURN a,b \n",
    "\n",
    "    \"\"\"\n",
    "\n",
    "with driver.session() as session:\n",
    "    session.run(query)"
   ]
  },
  {
   "cell_type": "code",
   "execution_count": 30,
   "metadata": {},
   "outputs": [],
   "source": [
    "query = \"\"\"\n",
    "MATCH (a:Customer), (b:Appointment) \n",
    "   WHERE a.userId =  b.customerId \n",
    "CREATE (a)-[: userBook]->(b) \n",
    "RETURN a,b \n",
    "\n",
    "    \"\"\"\n",
    "\n",
    "with driver.session() as session:\n",
    "    session.run(query)"
   ]
  },
  {
   "cell_type": "code",
   "execution_count": 31,
   "metadata": {},
   "outputs": [],
   "source": [
    "query = \"\"\"\n",
    "MATCH (a:Doctor), (b:Appointment) \n",
    "   WHERE a.doctorId =  b.providerId \n",
    "CREATE (a)-[: isBook]->(b) \n",
    "RETURN a,b \n",
    "\n",
    "    \"\"\"\n",
    "\n",
    "with driver.session() as session:\n",
    "    session.run(query)"
   ]
  },
  {
   "cell_type": "code",
   "execution_count": null,
   "metadata": {},
   "outputs": [],
   "source": []
  }
 ],
 "metadata": {
  "kernelspec": {
   "name": "python3",
   "display_name": "Python 3.7.6 64-bit (conda)",
   "metadata": {
    "interpreter": {
     "hash": "bc4533a01521e375ffa37256b9515278a7f12ae88345fd58eabf85b38ac557a5"
    }
   }
  }
 },
 "nbformat": 4,
 "nbformat_minor": 4
}